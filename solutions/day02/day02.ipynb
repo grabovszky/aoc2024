{
 "cells": [
  {
   "cell_type": "code",
   "execution_count": 8,
   "metadata": {},
   "outputs": [],
   "source": [
    "def read_file(filename):\n",
    "    with open(filename) as f:\n",
    "        content = f.read()\n",
    "    return content"
   ]
  },
  {
   "cell_type": "code",
   "execution_count": 9,
   "metadata": {},
   "outputs": [],
   "source": [
    "def parse_input(content):\n",
    "    reports = []\n",
    "\n",
    "    for line in content.strip().splitlines():\n",
    "        levels = [int(num) for num in line.strip().split()]\n",
    "        if levels:\n",
    "            reports.append(levels)\n",
    "    return reports"
   ]
  },
  {
   "cell_type": "code",
   "execution_count": 10,
   "metadata": {},
   "outputs": [],
   "source": [
    "def is_safe(levels):\n",
    "    if len(levels) < 2:\n",
    "        return True  # A single level is considered safe\n",
    "\n",
    "    differences = [levels[i] - levels[i - 1] for i in range(1, len(levels))]\n",
    "\n",
    "    # Check if all differences are positive (increasing) or all negative (decreasing)\n",
    "    is_increasing = all(d > 0 for d in differences)\n",
    "    is_decreasing = all(d < 0 for d in differences)\n",
    "\n",
    "    if not (is_increasing or is_decreasing):\n",
    "        return False\n",
    "    # Check that adjacent levels differ by at least one and at most three\n",
    "    if not all(1 <= abs(d) <= 3 for d in differences):\n",
    "        return False\n",
    "    return True"
   ]
  },
  {
   "cell_type": "code",
   "execution_count": 11,
   "metadata": {},
   "outputs": [],
   "source": [
    "def part1(filename):\n",
    "    content = read_file(filename)\n",
    "    reports = parse_input(content)\n",
    "\n",
    "    safe_reports = sum(1 for report in reports if is_safe(report))\n",
    "    return safe_reports"
   ]
  },
  {
   "cell_type": "code",
   "execution_count": 12,
   "metadata": {},
   "outputs": [],
   "source": [
    "def part2(filename):\n",
    "    content = read_file(filename)\n",
    "    reports = parse_input(content)\n",
    "\n",
    "    safe_reports = 0\n",
    "    for report in reports:\n",
    "        if is_safe(report):\n",
    "            safe_reports += 1\n",
    "        else:\n",
    "            # Try removing each level to see if the report becomes safe\n",
    "            for i in range(len(report)):\n",
    "                modified_report = report[:i] + report[i + 1 :]\n",
    "                if is_safe(modified_report):\n",
    "                    safe_reports += 1\n",
    "                    break\n",
    "    return safe_reports"
   ]
  },
  {
   "cell_type": "code",
   "execution_count": 13,
   "metadata": {},
   "outputs": [
    {
     "name": "stdout",
     "output_type": "stream",
     "text": [
      "Test part 1: 2\n",
      "Part 1 solution: 246\n"
     ]
    }
   ],
   "source": [
    "print(\"Test part 1:\", part1(\"example.txt\"))\n",
    "print(\"Part 1 solution:\", part1(\"input.txt\"))"
   ]
  },
  {
   "cell_type": "code",
   "execution_count": 14,
   "metadata": {},
   "outputs": [
    {
     "name": "stdout",
     "output_type": "stream",
     "text": [
      "Test part 2: 4\n",
      "Part 2 solution: 318\n"
     ]
    }
   ],
   "source": [
    "print(\"Test part 2:\", part2(\"example.txt\"))\n",
    "print(\"Part 2 solution:\", part2(\"input.txt\"))"
   ]
  }
 ],
 "metadata": {
  "kernelspec": {
   "display_name": "Python 3",
   "language": "python",
   "name": "python3"
  },
  "language_info": {
   "codemirror_mode": {
    "name": "ipython",
    "version": 3
   },
   "file_extension": ".py",
   "mimetype": "text/x-python",
   "name": "python",
   "nbconvert_exporter": "python",
   "pygments_lexer": "ipython3",
   "version": "3.11.2"
  }
 },
 "nbformat": 4,
 "nbformat_minor": 2
}
