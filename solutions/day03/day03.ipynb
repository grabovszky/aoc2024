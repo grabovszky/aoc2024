{
 "cells": [
  {
   "cell_type": "code",
   "execution_count": 11,
   "metadata": {},
   "outputs": [],
   "source": [
    "import re"
   ]
  },
  {
   "cell_type": "code",
   "execution_count": 12,
   "metadata": {},
   "outputs": [],
   "source": [
    "def read_file(filename):\n",
    "    with open(filename, \"r\") as f:\n",
    "        content = f.read()\n",
    "    return content"
   ]
  },
  {
   "cell_type": "code",
   "execution_count": 13,
   "metadata": {},
   "outputs": [],
   "source": [
    "def extract_mul_instructions(content):\n",
    "    # Valid mul instructions: mul(X,Y) where X and Y are 1-3 digit numbers\n",
    "    pattern = r\"mul\\(\\d{1,3},\\d{1,3}\\)\"\n",
    "    mul_instructions = re.findall(pattern, content)\n",
    "\n",
    "    return mul_instructions"
   ]
  },
  {
   "cell_type": "code",
   "execution_count": 14,
   "metadata": {},
   "outputs": [],
   "source": [
    "def sum_mul_results(mul_instructions):\n",
    "    total = 0\n",
    "    for instr in mul_instructions:\n",
    "        # Extract the numbers from the instruction\n",
    "        numbers = re.findall(r\"\\d+\", instr)\n",
    "        x, y = map(int, numbers)\n",
    "        total += x * y\n",
    "    return total"
   ]
  },
  {
   "cell_type": "code",
   "execution_count": 15,
   "metadata": {},
   "outputs": [],
   "source": [
    "def extract_instructions_with_control(content):\n",
    "    pattern = r\"(mul\\(\\d{1,3},\\d{1,3}\\)|do\\(\\)|don't\\(\\))\"\n",
    "    instructions = re.findall(pattern, content)\n",
    "    return instructions"
   ]
  },
  {
   "cell_type": "code",
   "execution_count": 16,
   "metadata": {},
   "outputs": [],
   "source": [
    "def sum_enabled_mul_results(instructions):\n",
    "    total = 0\n",
    "    enabled = True  # Initially, mul instructions are enabled\n",
    "\n",
    "    for instr in instructions:\n",
    "        if instr == \"do()\":\n",
    "            enabled = True\n",
    "        elif instr == \"don't()\":\n",
    "            enabled = False\n",
    "        elif instr.startswith(\"mul\") and enabled:\n",
    "            # Extract the numbers from the instruction\n",
    "            numbers = re.findall(r\"\\d+\", instr)\n",
    "            x, y = map(int, numbers)\n",
    "            total += x * y\n",
    "    return total"
   ]
  },
  {
   "cell_type": "code",
   "execution_count": 17,
   "metadata": {},
   "outputs": [],
   "source": [
    "def part1(filename):\n",
    "    content = read_file(filename)\n",
    "    mul_instructions = extract_mul_instructions(content)\n",
    "    total = sum_mul_results(mul_instructions)\n",
    "\n",
    "    return total"
   ]
  },
  {
   "cell_type": "code",
   "execution_count": 18,
   "metadata": {},
   "outputs": [],
   "source": [
    "def part2(filename):\n",
    "    content = read_file(filename)\n",
    "    instructions = extract_instructions_with_control(content)\n",
    "    total = sum_enabled_mul_results(instructions)\n",
    "\n",
    "    return total"
   ]
  },
  {
   "cell_type": "code",
   "execution_count": 19,
   "metadata": {},
   "outputs": [
    {
     "name": "stdout",
     "output_type": "stream",
     "text": [
      "Test part 1: 161\n",
      "Part 1 solution: 175615763\n"
     ]
    }
   ],
   "source": [
    "print(\"Test part 1:\", part1(\"example1.txt\"))\n",
    "print(\"Part 1 solution:\", part1(\"input.txt\"))"
   ]
  },
  {
   "cell_type": "code",
   "execution_count": 20,
   "metadata": {},
   "outputs": [
    {
     "name": "stdout",
     "output_type": "stream",
     "text": [
      "Test part 2: 48\n",
      "Part 2 solution: 74361272\n"
     ]
    }
   ],
   "source": [
    "print(\"Test part 2:\", part2(\"example2.txt\"))\n",
    "print(\"Part 2 solution:\", part2(\"input.txt\"))"
   ]
  }
 ],
 "metadata": {
  "kernelspec": {
   "display_name": "Python 3",
   "language": "python",
   "name": "python3"
  },
  "language_info": {
   "codemirror_mode": {
    "name": "ipython",
    "version": 3
   },
   "file_extension": ".py",
   "mimetype": "text/x-python",
   "name": "python",
   "nbconvert_exporter": "python",
   "pygments_lexer": "ipython3",
   "version": "3.11.2"
  }
 },
 "nbformat": 4,
 "nbformat_minor": 2
}
