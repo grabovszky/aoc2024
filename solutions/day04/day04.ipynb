{
 "cells": [
  {
   "cell_type": "code",
   "execution_count": 1,
   "metadata": {},
   "outputs": [],
   "source": [
    "def read_file(filename):\n",
    "    with open(filename, \"r\") as f:\n",
    "        content = [line.strip() for line in f if line.strip()]\n",
    "    return content"
   ]
  },
  {
   "cell_type": "code",
   "execution_count": 2,
   "metadata": {},
   "outputs": [],
   "source": [
    "def parse_grid(content):\n",
    "    letters = {}\n",
    "    x_positions = []\n",
    "    a_positions = []\n",
    "\n",
    "    for row_idx, line in enumerate(content):\n",
    "        for col_idx, char in enumerate(line):\n",
    "            position = complex(\n",
    "                col_idx, row_idx\n",
    "            )  # Use complex numbers to represent positions\n",
    "            letters[position] = char\n",
    "            if char == \"X\":\n",
    "                x_positions.append(position)\n",
    "            if char == \"A\":\n",
    "                a_positions.append(position)\n",
    "    return letters, x_positions, a_positions"
   ]
  },
  {
   "cell_type": "code",
   "execution_count": null,
   "metadata": {},
   "outputs": [],
   "source": [
    "def count_xmas_occurrences(letters, x_positions):\n",
    "    directions = [\n",
    "        complex(1, 0),  # Right\n",
    "        complex(-1, 0),  # Left\n",
    "        complex(0, 1),  # Down\n",
    "        complex(0, -1),  # Up\n",
    "        complex(1, 1),  # Down-Right\n",
    "        complex(-1, 1),  # Down-Left\n",
    "        complex(1, -1),  # Up-Right\n",
    "        complex(-1, -1),  # Up-Left\n",
    "    ]\n",
    "\n",
    "    count = 0\n",
    "    for x_pos in x_positions:\n",
    "        for direction in directions:\n",
    "            positions = [\n",
    "                x_pos + i * direction for i in range(1, 4)\n",
    "            ]  # Positions for 'M', 'A', 'S'\n",
    "            letters_in_direction = \"\".join(letters.get(pos, \"\") for pos in positions)\n",
    "            if letters_in_direction == \"MAS\":\n",
    "                count += 1\n",
    "    return count"
   ]
  },
  {
   "cell_type": "code",
   "execution_count": 4,
   "metadata": {},
   "outputs": [],
   "source": [
    "def count_x_mas_occurrences(letters, a_positions):\n",
    "    # Relative positions around 'A' to form an 'X' shape\n",
    "    x_offsets = [\n",
    "        complex(-1, -1),\n",
    "        complex(1, -1),\n",
    "        complex(1, 1),\n",
    "        complex(-1, 1),\n",
    "    ]\n",
    "\n",
    "    count = 0\n",
    "    for a_pos in a_positions:\n",
    "        surrounding_letters = \"\".join(\n",
    "            letters.get(a_pos + offset, \"\") for offset in x_offsets\n",
    "        )\n",
    "        # Check for patterns where 'MAS' forms an 'X' shape around 'A'\n",
    "        valid_patterns = {\"MMSS\", \"MSSM\", \"SSMM\", \"SMMS\"}\n",
    "        if surrounding_letters in valid_patterns:\n",
    "            count += 1\n",
    "    return count"
   ]
  },
  {
   "cell_type": "code",
   "execution_count": 5,
   "metadata": {},
   "outputs": [],
   "source": [
    "def part1(filename):\n",
    "    content = read_file(filename)\n",
    "    letters, x_positions, _ = parse_grid(content)\n",
    "    total_count = count_xmas_occurrences(letters, x_positions)\n",
    "\n",
    "    return total_count"
   ]
  },
  {
   "cell_type": "code",
   "execution_count": 6,
   "metadata": {},
   "outputs": [],
   "source": [
    "def part2(filename):\n",
    "    content = read_file(filename)\n",
    "    letters, _, a_positions = parse_grid(content)\n",
    "    total_count = count_x_mas_occurrences(letters, a_positions)\n",
    "\n",
    "    return total_count"
   ]
  },
  {
   "cell_type": "code",
   "execution_count": 7,
   "metadata": {},
   "outputs": [
    {
     "name": "stdout",
     "output_type": "stream",
     "text": [
      "Test part 1: 18\n",
      "Part 1 solution: 2549\n"
     ]
    }
   ],
   "source": [
    "print(\"Test part 1:\", part1(\"example1.txt\"))\n",
    "print(\"Part 1 solution:\", part1(\"input.txt\"))"
   ]
  },
  {
   "cell_type": "code",
   "execution_count": 8,
   "metadata": {},
   "outputs": [
    {
     "name": "stdout",
     "output_type": "stream",
     "text": [
      "Test part 2: 9\n",
      "Part 2 solution: 2003\n"
     ]
    }
   ],
   "source": [
    "print(\"Test part 2:\", part2(\"example2.txt\"))\n",
    "print(\"Part 2 solution:\", part2(\"input.txt\"))"
   ]
  }
 ],
 "metadata": {
  "kernelspec": {
   "display_name": "Python 3",
   "language": "python",
   "name": "python3"
  },
  "language_info": {
   "codemirror_mode": {
    "name": "ipython",
    "version": 3
   },
   "file_extension": ".py",
   "mimetype": "text/x-python",
   "name": "python",
   "nbconvert_exporter": "python",
   "pygments_lexer": "ipython3",
   "version": "3.11.2"
  }
 },
 "nbformat": 4,
 "nbformat_minor": 2
}
