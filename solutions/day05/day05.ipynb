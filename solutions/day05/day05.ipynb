{
 "cells": [
  {
   "cell_type": "code",
   "execution_count": 5,
   "metadata": {},
   "outputs": [],
   "source": [
    "from collections import defaultdict\n",
    "import functools"
   ]
  },
  {
   "cell_type": "code",
   "execution_count": 6,
   "metadata": {},
   "outputs": [],
   "source": [
    "def read_file(filename):\n",
    "    with open(filename) as f:\n",
    "        content = f.read()\n",
    "    return content"
   ]
  },
  {
   "cell_type": "code",
   "execution_count": 7,
   "metadata": {},
   "outputs": [],
   "source": [
    "def parse_input(content):\n",
    "    sections = content.strip().split(\"\\n\\n\")\n",
    "    rules_section = sections[0]\n",
    "    updates_section = sections[1]\n",
    "\n",
    "    rules = defaultdict(list)\n",
    "    for rule in rules_section.strip().split():\n",
    "        a_str, b_str = rule.split(\"|\")\n",
    "        a, b = int(a_str), int(b_str)\n",
    "        rules[a].append(b)\n",
    "\n",
    "    updates = []\n",
    "    for update_line in updates_section.strip().split():\n",
    "        pages = [int(page) for page in update_line.split(\",\")]\n",
    "        updates.append(pages)\n",
    "\n",
    "    return rules, updates"
   ]
  },
  {
   "cell_type": "code",
   "execution_count": null,
   "metadata": {},
   "outputs": [],
   "source": [
    "def compare_factory(rules):\n",
    "    def compare(a, b):\n",
    "        if b in rules[a]:\n",
    "            return -1  # a must come before b\n",
    "        if a in rules[b]:\n",
    "            return 1  # b must come before a\n",
    "        return 0  # No specific order between a and b\n",
    "\n",
    "    return compare\n",
    "\n",
    "\n",
    "def solve(filename, condition):\n",
    "    content = read_file(filename)\n",
    "    rules, updates = parse_input(content)\n",
    "    compare = compare_factory(rules)\n",
    "\n",
    "    total = 0\n",
    "    for update in updates:\n",
    "        sorted_update = sorted(update, key=functools.cmp_to_key(compare))\n",
    "        if condition(update, sorted_update):\n",
    "            middle_page = sorted_update[len(sorted_update) // 2]\n",
    "            total += middle_page\n",
    "    return total"
   ]
  },
  {
   "cell_type": "code",
   "execution_count": 9,
   "metadata": {},
   "outputs": [],
   "source": [
    "def part1(filename):\n",
    "    # Part 1: Sum the middle page number of updates already in correct order\n",
    "    return solve(\n",
    "        filename, condition=lambda update, sorted_update: sorted_update == update\n",
    "    )"
   ]
  },
  {
   "cell_type": "code",
   "execution_count": 10,
   "metadata": {},
   "outputs": [],
   "source": [
    "def part2(filename):\n",
    "    # Part 2: Sum the middle page number of incorrectly ordered updates after sorting\n",
    "    return solve(\n",
    "        filename, condition=lambda update, sorted_update: sorted_update != update\n",
    "    )"
   ]
  },
  {
   "cell_type": "code",
   "execution_count": 11,
   "metadata": {},
   "outputs": [
    {
     "name": "stdout",
     "output_type": "stream",
     "text": [
      "Test part 1: 143\n",
      "Part 1 solution: 5955\n"
     ]
    }
   ],
   "source": [
    "print(\"Test part 1:\", part1(\"example.txt\"))\n",
    "print(\"Part 1 solution:\", part1(\"input.txt\"))"
   ]
  },
  {
   "cell_type": "code",
   "execution_count": 12,
   "metadata": {},
   "outputs": [
    {
     "name": "stdout",
     "output_type": "stream",
     "text": [
      "Test part 2: 123\n",
      "Part 2 solution: 4030\n"
     ]
    }
   ],
   "source": [
    "print(\"Test part 2:\", part2(\"example.txt\"))\n",
    "print(\"Part 2 solution:\", part2(\"input.txt\"))"
   ]
  }
 ],
 "metadata": {
  "kernelspec": {
   "display_name": "Python 3",
   "language": "python",
   "name": "python3"
  },
  "language_info": {
   "codemirror_mode": {
    "name": "ipython",
    "version": 3
   },
   "file_extension": ".py",
   "mimetype": "text/x-python",
   "name": "python",
   "nbconvert_exporter": "python",
   "pygments_lexer": "ipython3",
   "version": "3.11.2"
  }
 },
 "nbformat": 4,
 "nbformat_minor": 2
}
