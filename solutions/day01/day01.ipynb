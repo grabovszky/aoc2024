{
 "cells": [
  {
   "cell_type": "code",
   "execution_count": 3,
   "metadata": {},
   "outputs": [],
   "source": [
    "from collections import Counter"
   ]
  },
  {
   "cell_type": "code",
   "execution_count": 4,
   "metadata": {},
   "outputs": [],
   "source": [
    "def read_file(filename):\n",
    "    with open(filename) as f:\n",
    "        content = f.read()\n",
    "    return content"
   ]
  },
  {
   "cell_type": "code",
   "execution_count": 5,
   "metadata": {},
   "outputs": [],
   "source": [
    "def parse_input(content):\n",
    "    left_list = []\n",
    "    right_list = []\n",
    "\n",
    "    for line in content.strip().splitlines():\n",
    "        numbers = line.strip().split()\n",
    "        if len(numbers) >= 2:\n",
    "            left_num, right_num = int(numbers[0]), int(numbers[1])\n",
    "            left_list.append(left_num)\n",
    "            right_list.append(right_num)\n",
    "    return left_list, right_list"
   ]
  },
  {
   "cell_type": "code",
   "execution_count": 6,
   "metadata": {},
   "outputs": [],
   "source": [
    "def part1(filename):\n",
    "    content = read_file(filename)\n",
    "    left_list, right_list = parse_input(content)\n",
    "\n",
    "    # Sort both lists\n",
    "    left_sorted = sorted(left_list)\n",
    "    right_sorted = sorted(right_list)\n",
    "\n",
    "    # Calculate the total distance between the pairs\n",
    "    total_distance = sum(abs(l - r) for l, r in zip(left_sorted, right_sorted))\n",
    "    return total_distance"
   ]
  },
  {
   "cell_type": "code",
   "execution_count": 7,
   "metadata": {},
   "outputs": [],
   "source": [
    "def part2(filename):\n",
    "    content = read_file(filename)\n",
    "    left_list, right_list = parse_input(content)\n",
    "\n",
    "    # Count occurrences of each number in the right list\n",
    "    right_counts = Counter(right_list)\n",
    "\n",
    "    # Calculate the similarity score\n",
    "    similarity_score = sum(num * right_counts.get(num, 0) for num in left_list)\n",
    "    return similarity_score"
   ]
  },
  {
   "cell_type": "code",
   "execution_count": 8,
   "metadata": {},
   "outputs": [
    {
     "name": "stdout",
     "output_type": "stream",
     "text": [
      "Test part 1: 11\n",
      "Part 1 solution: 1660292\n"
     ]
    }
   ],
   "source": [
    "print(\"Test part 1:\", part1(\"example.txt\"))\n",
    "print(\"Part 1 solution:\", part1(\"input.txt\"))"
   ]
  },
  {
   "cell_type": "code",
   "execution_count": 9,
   "metadata": {},
   "outputs": [
    {
     "name": "stdout",
     "output_type": "stream",
     "text": [
      "Test part 2: 31\n",
      "Part 2 solution: 22776016\n"
     ]
    }
   ],
   "source": [
    "print(\"Test part 2:\", part2(\"example.txt\"))\n",
    "print(\"Part 2 solution:\", part2(\"input.txt\"))"
   ]
  }
 ],
 "metadata": {
  "kernelspec": {
   "display_name": "Python 3",
   "language": "python",
   "name": "python3"
  },
  "language_info": {
   "codemirror_mode": {
    "name": "ipython",
    "version": 3
   },
   "file_extension": ".py",
   "mimetype": "text/x-python",
   "name": "python",
   "nbconvert_exporter": "python",
   "pygments_lexer": "ipython3",
   "version": "3.11.2"
  }
 },
 "nbformat": 4,
 "nbformat_minor": 2
}
